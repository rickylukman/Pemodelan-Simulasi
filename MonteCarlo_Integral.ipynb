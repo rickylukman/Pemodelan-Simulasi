{
  "nbformat": 4,
  "nbformat_minor": 0,
  "metadata": {
    "colab": {
      "name": "MonteCarlo Integral",
      "provenance": [],
      "collapsed_sections": [],
      "authorship_tag": "ABX9TyN2i2JFrgcWx84j9XGrZf9o",
      "include_colab_link": true
    },
    "kernelspec": {
      "name": "python3",
      "display_name": "Python 3"
    }
  },
  "cells": [
    {
      "cell_type": "markdown",
      "metadata": {
        "id": "view-in-github",
        "colab_type": "text"
      },
      "source": [
        "<a href=\"https://colab.research.google.com/github/rickylukman/Pemodelan-Simulasi/blob/master/MonteCarlo_Integral.ipynb\" target=\"_parent\"><img src=\"https://colab.research.google.com/assets/colab-badge.svg\" alt=\"Open In Colab\"/></a>"
      ]
    },
    {
      "cell_type": "code",
      "metadata": {
        "id": "YFMXBE8GHi54",
        "colab_type": "code",
        "colab": {}
      },
      "source": [
        "import random"
      ],
      "execution_count": 0,
      "outputs": []
    },
    {
      "cell_type": "code",
      "metadata": {
        "id": "Gr1N1OB6K6G5",
        "colab_type": "code",
        "colab": {}
      },
      "source": [
        "# f(x) = 4x^3 + 4x\n",
        "# integral f(x) dx = x^4 + 2x^2\n",
        "# buat cek hasil => (1^4 + 2.1^2) - (0^4 + 2.0^2 )= 3\n",
        "\n",
        "def sebenarnya(atas,bawah):\n",
        "  hatas = ( (atas**4) + (2*(atas**2)) )\n",
        "  hbawah = ( (bawah**4) + (2*(bawah**2)) )\n",
        "  return hatas-hbawah\n",
        "\n",
        "def fungsi(x):\n",
        "  return ( (4*(x**3)) + (4*x) )\n",
        "\n",
        "def xirandom(M):\n",
        "  xi = []\n",
        "  for i in range(M):\n",
        "    xi.append(random.random())\n",
        "  return xi\n",
        "\n",
        "def hasilfxi(xi):\n",
        "  fxi = []\n",
        "  for i in range(len(xi)):\n",
        "    fxi.append(fungsi(xi[i]))\n",
        "  return fxi\n",
        "\n",
        "def metodequadrature(wi, fxi):\n",
        "  sum = 0\n",
        "  ikecil = []\n",
        "  for i in range(len(fxi)):\n",
        "    wfx = wi * fxi[i]\n",
        "    sum = sum + wfx\n",
        "    ikecil.append(wfx)\n",
        "  return sum,ikecil"
      ],
      "execution_count": 0,
      "outputs": []
    },
    {
      "cell_type": "code",
      "metadata": {
        "id": "jiTk4vFpLmgl",
        "colab_type": "code",
        "outputId": "0677cbc9-a1e5-49d4-8a2f-c2286c76c622",
        "colab": {
          "base_uri": "https://localhost:8080/",
          "height": 102
        }
      },
      "source": [
        "M = 100\n",
        "a = 0\n",
        "b = 1\n",
        "# partisi rectangular \n",
        "wi = (b-a)/M\n",
        "\n",
        "ibenar = sebenarnya(b,a)\n",
        "\n",
        "xi = xirandom(M)\n",
        "fxi = hasilfxi(xi)\n",
        "total,ikecil = metodequadrature(wi, fxi)\n",
        "\n",
        "print(\"Nilai a      =\",a)\n",
        "print(\"Nilai b      =\",b)\n",
        "print(\"Banyak M     =\", M)\n",
        "print(\"I estimasi   =\", total)\n",
        "print(\"I sebenarnya =\", ibenar)"
      ],
      "execution_count": 15,
      "outputs": [
        {
          "output_type": "stream",
          "text": [
            "Nilai a      = 0\n",
            "Nilai b      = 1\n",
            "Banyak M     = 100\n",
            "I estimasi   = 3.0173475200214623\n",
            "I sebenarnya = 3\n"
          ],
          "name": "stdout"
        }
      ]
    },
    {
      "cell_type": "code",
      "metadata": {
        "id": "P9sci3TKvpGG",
        "colab_type": "code",
        "colab": {}
      },
      "source": [
        ""
      ],
      "execution_count": 0,
      "outputs": []
    }
  ]
}