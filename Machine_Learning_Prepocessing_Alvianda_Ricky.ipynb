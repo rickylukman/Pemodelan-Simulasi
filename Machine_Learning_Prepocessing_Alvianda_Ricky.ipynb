{
  "nbformat": 4,
  "nbformat_minor": 0,
  "metadata": {
    "colab": {
      "name": "Machine Learning - Prepocessing - Alvianda Ricky",
      "provenance": [],
      "collapsed_sections": [
        "ODv0KC_g7UaG"
      ],
      "authorship_tag": "ABX9TyP4aX/blEsTo3knpjo2/SZm",
      "include_colab_link": true
    },
    "kernelspec": {
      "name": "python3",
      "display_name": "Python 3"
    }
  },
  "cells": [
    {
      "cell_type": "markdown",
      "metadata": {
        "id": "view-in-github",
        "colab_type": "text"
      },
      "source": [
        "<a href=\"https://colab.research.google.com/github/rickylukman/Pemodelan-Simulasi/blob/master/Machine_Learning_Prepocessing_Alvianda_Ricky.ipynb\" target=\"_parent\"><img src=\"https://colab.research.google.com/assets/colab-badge.svg\" alt=\"Open In Colab\"/></a>"
      ]
    },
    {
      "cell_type": "markdown",
      "metadata": {
        "id": "dOlwh1L7kHXs",
        "colab_type": "text"
      },
      "source": [
        "# Import File dari gdrive"
      ]
    },
    {
      "cell_type": "code",
      "metadata": {
        "id": "V3647QU2Obta",
        "colab_type": "code",
        "outputId": "ac081094-231c-459c-9fe7-d823f0ad8f97",
        "colab": {
          "base_uri": "https://localhost:8080/",
          "height": 34
        }
      },
      "source": [
        "from google.colab import drive\n",
        "drive.mount('/content/gdrive')"
      ],
      "execution_count": 0,
      "outputs": [
        {
          "output_type": "stream",
          "text": [
            "Drive already mounted at /content/gdrive; to attempt to forcibly remount, call drive.mount(\"/content/gdrive\", force_remount=True).\n"
          ],
          "name": "stdout"
        }
      ]
    },
    {
      "cell_type": "code",
      "metadata": {
        "id": "gFSMbTbTxGYm",
        "colab_type": "code",
        "outputId": "2f43292b-2a28-4e5a-8cbe-3787ec814fd7",
        "colab": {
          "base_uri": "https://localhost:8080/",
          "height": 34
        }
      },
      "source": [
        "import pandas as pd\n",
        "\n",
        "#read data gdrive disimpan di variable df\n",
        "df=pd.read_csv('gdrive/My Drive/used_cars.csv')\n",
        "df.shape"
      ],
      "execution_count": 0,
      "outputs": [
        {
          "output_type": "execute_result",
          "data": {
            "text/plain": [
              "(20001, 26)"
            ]
          },
          "metadata": {
            "tags": []
          },
          "execution_count": 39
        }
      ]
    },
    {
      "cell_type": "code",
      "metadata": {
        "id": "CKorWFNtx0Ep",
        "colab_type": "code",
        "outputId": "7e5061a4-0de7-4a5f-b341-ac353f321303",
        "colab": {
          "base_uri": "https://localhost:8080/",
          "height": 530
        }
      },
      "source": [
        "df.head()"
      ],
      "execution_count": 0,
      "outputs": [
        {
          "output_type": "execute_result",
          "data": {
            "text/html": [
              "<div>\n",
              "<style scoped>\n",
              "    .dataframe tbody tr th:only-of-type {\n",
              "        vertical-align: middle;\n",
              "    }\n",
              "\n",
              "    .dataframe tbody tr th {\n",
              "        vertical-align: top;\n",
              "    }\n",
              "\n",
              "    .dataframe thead th {\n",
              "        text-align: right;\n",
              "    }\n",
              "</style>\n",
              "<table border=\"1\" class=\"dataframe\">\n",
              "  <thead>\n",
              "    <tr style=\"text-align: right;\">\n",
              "      <th></th>\n",
              "      <th>Unnamed: 0</th>\n",
              "      <th>id</th>\n",
              "      <th>url</th>\n",
              "      <th>region</th>\n",
              "      <th>region_url</th>\n",
              "      <th>price</th>\n",
              "      <th>year</th>\n",
              "      <th>manufacturer</th>\n",
              "      <th>model</th>\n",
              "      <th>condition</th>\n",
              "      <th>cylinders</th>\n",
              "      <th>fuel</th>\n",
              "      <th>odometer</th>\n",
              "      <th>title_status</th>\n",
              "      <th>transmission</th>\n",
              "      <th>vin</th>\n",
              "      <th>drive</th>\n",
              "      <th>size</th>\n",
              "      <th>type</th>\n",
              "      <th>paint_color</th>\n",
              "      <th>image_url</th>\n",
              "      <th>description</th>\n",
              "      <th>county</th>\n",
              "      <th>state</th>\n",
              "      <th>lat</th>\n",
              "      <th>long</th>\n",
              "    </tr>\n",
              "  </thead>\n",
              "  <tbody>\n",
              "    <tr>\n",
              "      <th>0</th>\n",
              "      <td>0</td>\n",
              "      <td>7034441763</td>\n",
              "      <td>https://saltlakecity.craigslist.org/cto/d/salt...</td>\n",
              "      <td>salt lake city</td>\n",
              "      <td>https://saltlakecity.craigslist.org</td>\n",
              "      <td>17899</td>\n",
              "      <td>2012.0</td>\n",
              "      <td>volkswagen</td>\n",
              "      <td>golf r</td>\n",
              "      <td>excellent</td>\n",
              "      <td>4 cylinders</td>\n",
              "      <td>gas</td>\n",
              "      <td>63500.0</td>\n",
              "      <td>clean</td>\n",
              "      <td>manual</td>\n",
              "      <td>WVWPF7AJ6CW316713</td>\n",
              "      <td>4wd</td>\n",
              "      <td>compact</td>\n",
              "      <td>hatchback</td>\n",
              "      <td>black</td>\n",
              "      <td>https://images.craigslist.org/00G0G_fTLDWM5Xyv...</td>\n",
              "      <td>PRICE REDUCED!   -Garage kept -Low Miles (63K)...</td>\n",
              "      <td>NaN</td>\n",
              "      <td>ut</td>\n",
              "      <td>40.7372</td>\n",
              "      <td>-111.858</td>\n",
              "    </tr>\n",
              "    <tr>\n",
              "      <th>1</th>\n",
              "      <td>1</td>\n",
              "      <td>7034440610</td>\n",
              "      <td>https://saltlakecity.craigslist.org/ctd/d/sand...</td>\n",
              "      <td>salt lake city</td>\n",
              "      <td>https://saltlakecity.craigslist.org</td>\n",
              "      <td>0</td>\n",
              "      <td>2016.0</td>\n",
              "      <td>ford</td>\n",
              "      <td>f-150</td>\n",
              "      <td>excellent</td>\n",
              "      <td>NaN</td>\n",
              "      <td>gas</td>\n",
              "      <td>10.0</td>\n",
              "      <td>clean</td>\n",
              "      <td>automatic</td>\n",
              "      <td>1FTMF1EP3GKF13544</td>\n",
              "      <td>4wd</td>\n",
              "      <td>NaN</td>\n",
              "      <td>NaN</td>\n",
              "      <td>NaN</td>\n",
              "      <td>https://images.craigslist.org/00v0v_7Cu0buIofU...</td>\n",
              "      <td>Drive it home today. Call (Or Text) us now !!C...</td>\n",
              "      <td>NaN</td>\n",
              "      <td>ut</td>\n",
              "      <td>40.5881</td>\n",
              "      <td>-111.884</td>\n",
              "    </tr>\n",
              "    <tr>\n",
              "      <th>2</th>\n",
              "      <td>2</td>\n",
              "      <td>7034440588</td>\n",
              "      <td>https://saltlakecity.craigslist.org/ctd/d/sand...</td>\n",
              "      <td>salt lake city</td>\n",
              "      <td>https://saltlakecity.craigslist.org</td>\n",
              "      <td>46463</td>\n",
              "      <td>2015.0</td>\n",
              "      <td>gmc</td>\n",
              "      <td>sierra 1500</td>\n",
              "      <td>excellent</td>\n",
              "      <td>NaN</td>\n",
              "      <td>gas</td>\n",
              "      <td>7554.0</td>\n",
              "      <td>clean</td>\n",
              "      <td>automatic</td>\n",
              "      <td>3GTU2WEC6FG228025</td>\n",
              "      <td>4wd</td>\n",
              "      <td>NaN</td>\n",
              "      <td>NaN</td>\n",
              "      <td>white</td>\n",
              "      <td>https://images.craigslist.org/01515_lPvJ9bfbdY...</td>\n",
              "      <td>Drive it home today. Call (Or Text) us now !!C...</td>\n",
              "      <td>NaN</td>\n",
              "      <td>ut</td>\n",
              "      <td>40.5881</td>\n",
              "      <td>-111.884</td>\n",
              "    </tr>\n",
              "    <tr>\n",
              "      <th>3</th>\n",
              "      <td>3</td>\n",
              "      <td>7034440546</td>\n",
              "      <td>https://saltlakecity.craigslist.org/ctd/d/sand...</td>\n",
              "      <td>salt lake city</td>\n",
              "      <td>https://saltlakecity.craigslist.org</td>\n",
              "      <td>0</td>\n",
              "      <td>2016.0</td>\n",
              "      <td>ford</td>\n",
              "      <td>f-150</td>\n",
              "      <td>excellent</td>\n",
              "      <td>NaN</td>\n",
              "      <td>gas</td>\n",
              "      <td>10.0</td>\n",
              "      <td>clean</td>\n",
              "      <td>automatic</td>\n",
              "      <td>1FTEX1EF6GKD25447</td>\n",
              "      <td>4wd</td>\n",
              "      <td>NaN</td>\n",
              "      <td>NaN</td>\n",
              "      <td>NaN</td>\n",
              "      <td>https://images.craigslist.org/00T0T_6Rjfp3NS4O...</td>\n",
              "      <td>Drive it home today. Call (Or Text) us now !!C...</td>\n",
              "      <td>NaN</td>\n",
              "      <td>ut</td>\n",
              "      <td>40.5881</td>\n",
              "      <td>-111.884</td>\n",
              "    </tr>\n",
              "    <tr>\n",
              "      <th>4</th>\n",
              "      <td>4</td>\n",
              "      <td>7034406932</td>\n",
              "      <td>https://saltlakecity.craigslist.org/ctd/d/evan...</td>\n",
              "      <td>salt lake city</td>\n",
              "      <td>https://saltlakecity.craigslist.org</td>\n",
              "      <td>49999</td>\n",
              "      <td>2018.0</td>\n",
              "      <td>ford</td>\n",
              "      <td>f-450</td>\n",
              "      <td>NaN</td>\n",
              "      <td>NaN</td>\n",
              "      <td>diesel</td>\n",
              "      <td>70150.0</td>\n",
              "      <td>clean</td>\n",
              "      <td>automatic</td>\n",
              "      <td>1FT8W4DT8GEA90427</td>\n",
              "      <td>4wd</td>\n",
              "      <td>NaN</td>\n",
              "      <td>pickup</td>\n",
              "      <td>white</td>\n",
              "      <td>https://images.craigslist.org/00W0W_8yIUwRBXXd...</td>\n",
              "      <td>2018 Ford F-350 F350 F 350 SD Lariat Crew Cab ...</td>\n",
              "      <td>NaN</td>\n",
              "      <td>ut</td>\n",
              "      <td>40.3744</td>\n",
              "      <td>-104.694</td>\n",
              "    </tr>\n",
              "  </tbody>\n",
              "</table>\n",
              "</div>"
            ],
            "text/plain": [
              "   Unnamed: 0          id  ...      lat     long\n",
              "0           0  7034441763  ...  40.7372 -111.858\n",
              "1           1  7034440610  ...  40.5881 -111.884\n",
              "2           2  7034440588  ...  40.5881 -111.884\n",
              "3           3  7034440546  ...  40.5881 -111.884\n",
              "4           4  7034406932  ...  40.3744 -104.694\n",
              "\n",
              "[5 rows x 26 columns]"
            ]
          },
          "metadata": {
            "tags": []
          },
          "execution_count": 40
        }
      ]
    },
    {
      "cell_type": "markdown",
      "metadata": {
        "id": "0JC4Hdc2Ik7B",
        "colab_type": "text"
      },
      "source": [
        "# Missing Value"
      ]
    },
    {
      "cell_type": "code",
      "metadata": {
        "id": "jIWBaajpIoOU",
        "colab_type": "code",
        "outputId": "88615617-13ad-4450-e6cb-3d421e5555b7",
        "colab": {
          "base_uri": "https://localhost:8080/",
          "height": 297
        }
      },
      "source": [
        "df.describe()"
      ],
      "execution_count": 0,
      "outputs": [
        {
          "output_type": "execute_result",
          "data": {
            "text/html": [
              "<div>\n",
              "<style scoped>\n",
              "    .dataframe tbody tr th:only-of-type {\n",
              "        vertical-align: middle;\n",
              "    }\n",
              "\n",
              "    .dataframe tbody tr th {\n",
              "        vertical-align: top;\n",
              "    }\n",
              "\n",
              "    .dataframe thead th {\n",
              "        text-align: right;\n",
              "    }\n",
              "</style>\n",
              "<table border=\"1\" class=\"dataframe\">\n",
              "  <thead>\n",
              "    <tr style=\"text-align: right;\">\n",
              "      <th></th>\n",
              "      <th>Unnamed: 0</th>\n",
              "      <th>id</th>\n",
              "      <th>price</th>\n",
              "      <th>year</th>\n",
              "      <th>odometer</th>\n",
              "      <th>county</th>\n",
              "      <th>lat</th>\n",
              "      <th>long</th>\n",
              "    </tr>\n",
              "  </thead>\n",
              "  <tbody>\n",
              "    <tr>\n",
              "      <th>count</th>\n",
              "      <td>20001.000000</td>\n",
              "      <td>2.000100e+04</td>\n",
              "      <td>2.000100e+04</td>\n",
              "      <td>19989.000000</td>\n",
              "      <td>1.761200e+04</td>\n",
              "      <td>0.0</td>\n",
              "      <td>18970.000000</td>\n",
              "      <td>18970.000000</td>\n",
              "    </tr>\n",
              "    <tr>\n",
              "      <th>mean</th>\n",
              "      <td>10000.000000</td>\n",
              "      <td>7.043199e+09</td>\n",
              "      <td>7.664058e+04</td>\n",
              "      <td>2009.830657</td>\n",
              "      <td>9.916435e+04</td>\n",
              "      <td>NaN</td>\n",
              "      <td>40.394737</td>\n",
              "      <td>-86.300395</td>\n",
              "    </tr>\n",
              "    <tr>\n",
              "      <th>std</th>\n",
              "      <td>5773.935703</td>\n",
              "      <td>4.668820e+06</td>\n",
              "      <td>8.335762e+06</td>\n",
              "      <td>7.913613</td>\n",
              "      <td>7.963487e+04</td>\n",
              "      <td>NaN</td>\n",
              "      <td>4.440290</td>\n",
              "      <td>18.219242</td>\n",
              "    </tr>\n",
              "    <tr>\n",
              "      <th>min</th>\n",
              "      <td>0.000000</td>\n",
              "      <td>7.032597e+09</td>\n",
              "      <td>0.000000e+00</td>\n",
              "      <td>1917.000000</td>\n",
              "      <td>0.000000e+00</td>\n",
              "      <td>NaN</td>\n",
              "      <td>-51.812200</td>\n",
              "      <td>-155.901000</td>\n",
              "    </tr>\n",
              "    <tr>\n",
              "      <th>25%</th>\n",
              "      <td>5000.000000</td>\n",
              "      <td>7.040114e+09</td>\n",
              "      <td>3.970000e+03</td>\n",
              "      <td>2007.000000</td>\n",
              "      <td>5.013300e+04</td>\n",
              "      <td>NaN</td>\n",
              "      <td>37.273700</td>\n",
              "      <td>-80.166800</td>\n",
              "    </tr>\n",
              "    <tr>\n",
              "      <th>50%</th>\n",
              "      <td>10000.000000</td>\n",
              "      <td>7.043866e+09</td>\n",
              "      <td>8.795000e+03</td>\n",
              "      <td>2011.000000</td>\n",
              "      <td>9.389900e+04</td>\n",
              "      <td>NaN</td>\n",
              "      <td>38.258600</td>\n",
              "      <td>-77.514200</td>\n",
              "    </tr>\n",
              "    <tr>\n",
              "      <th>75%</th>\n",
              "      <td>15000.000000</td>\n",
              "      <td>7.047065e+09</td>\n",
              "      <td>1.749500e+04</td>\n",
              "      <td>2015.000000</td>\n",
              "      <td>1.339090e+05</td>\n",
              "      <td>NaN</td>\n",
              "      <td>44.439500</td>\n",
              "      <td>-76.238400</td>\n",
              "    </tr>\n",
              "    <tr>\n",
              "      <th>max</th>\n",
              "      <td>20000.000000</td>\n",
              "      <td>7.050101e+09</td>\n",
              "      <td>1.172420e+09</td>\n",
              "      <td>2020.000000</td>\n",
              "      <td>2.500005e+06</td>\n",
              "      <td>NaN</td>\n",
              "      <td>59.746600</td>\n",
              "      <td>9.095700</td>\n",
              "    </tr>\n",
              "  </tbody>\n",
              "</table>\n",
              "</div>"
            ],
            "text/plain": [
              "         Unnamed: 0            id  ...           lat          long\n",
              "count  20001.000000  2.000100e+04  ...  18970.000000  18970.000000\n",
              "mean   10000.000000  7.043199e+09  ...     40.394737    -86.300395\n",
              "std     5773.935703  4.668820e+06  ...      4.440290     18.219242\n",
              "min        0.000000  7.032597e+09  ...    -51.812200   -155.901000\n",
              "25%     5000.000000  7.040114e+09  ...     37.273700    -80.166800\n",
              "50%    10000.000000  7.043866e+09  ...     38.258600    -77.514200\n",
              "75%    15000.000000  7.047065e+09  ...     44.439500    -76.238400\n",
              "max    20000.000000  7.050101e+09  ...     59.746600      9.095700\n",
              "\n",
              "[8 rows x 8 columns]"
            ]
          },
          "metadata": {
            "tags": []
          },
          "execution_count": 41
        }
      ]
    },
    {
      "cell_type": "code",
      "metadata": {
        "id": "vMQUJSSMKWgP",
        "colab_type": "code",
        "outputId": "84a8d64d-2c03-4004-f026-8daf519d5b5a",
        "colab": {
          "base_uri": "https://localhost:8080/",
          "height": 442
        }
      },
      "source": [
        "import seaborn as sns\n",
        "ax = sns.heatmap(df.isna())"
      ],
      "execution_count": 0,
      "outputs": [
        {
          "output_type": "display_data",
          "data": {
            "image/png": "[encoded data removed]",
            "text/plain": [
              "<Figure size 600x400 with 2 Axes>"
            ]
          },
          "metadata": {
            "tags": []
          }
        }
      ]
    },
    {
      "cell_type": "code",
      "metadata": {
        "id": "R1cbxWt7fCMU",
        "colab_type": "code",
        "outputId": "248166ff-a583-49cb-f1ed-da2bc79a1b02",
        "colab": {
          "base_uri": "https://localhost:8080/",
          "height": 476
        }
      },
      "source": [
        "# Melihat jumlah data setiap kolom\n",
        "print(df.isnull().sum())"
      ],
      "execution_count": 0,
      "outputs": [
        {
          "output_type": "stream",
          "text": [
            "Unnamed: 0          0\n",
            "id                  0\n",
            "url                 0\n",
            "region              0\n",
            "region_url          0\n",
            "price               0\n",
            "year               12\n",
            "manufacturer      705\n",
            "model             265\n",
            "condition        9152\n",
            "cylinders        7085\n",
            "fuel               73\n",
            "odometer         2389\n",
            "title_status      110\n",
            "transmission      190\n",
            "vin              6645\n",
            "drive            4642\n",
            "size            13115\n",
            "type             3659\n",
            "paint_color      5514\n",
            "image_url           0\n",
            "description         0\n",
            "county          20001\n",
            "state               0\n",
            "lat              1031\n",
            "long             1031\n",
            "dtype: int64\n"
          ],
          "name": "stdout"
        }
      ]
    },
    {
      "cell_type": "markdown",
      "metadata": {
        "id": "1CqiJ7uKq4Wo",
        "colab_type": "text"
      },
      "source": [
        "**Menghapus kolom yang tidak diperlukan**"
      ]
    },
    {
      "cell_type": "code",
      "metadata": {
        "id": "PUyx5OzNzsJB",
        "colab_type": "code",
        "colab": {}
      },
      "source": [
        "df = df.drop([\"Unnamed: 0\",\"id\",\"url\", \"region\",\"region_url\",\"cylinders\",\"odometer\",\"vin\",\"size\",\"type\",\"image_url\",\"description\",\"county\",\"lat\",\"long\"], axis = 1)"
      ],
      "execution_count": 0,
      "outputs": []
    },
    {
      "cell_type": "code",
      "metadata": {
        "id": "395V1mzF563T",
        "colab_type": "code",
        "outputId": "931cf6a1-ca06-48bb-8209-1067865821c5",
        "colab": {
          "base_uri": "https://localhost:8080/",
          "height": 34
        }
      },
      "source": [
        "df.shape"
      ],
      "execution_count": 0,
      "outputs": [
        {
          "output_type": "execute_result",
          "data": {
            "text/plain": [
              "(20001, 11)"
            ]
          },
          "metadata": {
            "tags": []
          },
          "execution_count": 45
        }
      ]
    },
    {
      "cell_type": "code",
      "metadata": {
        "id": "UaDd4lmX54C-",
        "colab_type": "code",
        "outputId": "74921c92-0dd9-42e0-d336-8e84ad0bcc4e",
        "colab": {
          "base_uri": "https://localhost:8080/",
          "height": 204
        }
      },
      "source": [
        "df.head()"
      ],
      "execution_count": 0,
      "outputs": [
        {
          "output_type": "execute_result",
          "data": {
            "text/html": [
              "<div>\n",
              "<style scoped>\n",
              "    .dataframe tbody tr th:only-of-type {\n",
              "        vertical-align: middle;\n",
              "    }\n",
              "\n",
              "    .dataframe tbody tr th {\n",
              "        vertical-align: top;\n",
              "    }\n",
              "\n",
              "    .dataframe thead th {\n",
              "        text-align: right;\n",
              "    }\n",
              "</style>\n",
              "<table border=\"1\" class=\"dataframe\">\n",
              "  <thead>\n",
              "    <tr style=\"text-align: right;\">\n",
              "      <th></th>\n",
              "      <th>price</th>\n",
              "      <th>year</th>\n",
              "      <th>manufacturer</th>\n",
              "      <th>model</th>\n",
              "      <th>condition</th>\n",
              "      <th>fuel</th>\n",
              "      <th>title_status</th>\n",
              "      <th>transmission</th>\n",
              "      <th>drive</th>\n",
              "      <th>paint_color</th>\n",
              "      <th>state</th>\n",
              "    </tr>\n",
              "  </thead>\n",
              "  <tbody>\n",
              "    <tr>\n",
              "      <th>0</th>\n",
              "      <td>17899</td>\n",
              "      <td>2012.0</td>\n",
              "      <td>volkswagen</td>\n",
              "      <td>golf r</td>\n",
              "      <td>excellent</td>\n",
              "      <td>gas</td>\n",
              "      <td>clean</td>\n",
              "      <td>manual</td>\n",
              "      <td>4wd</td>\n",
              "      <td>black</td>\n",
              "      <td>ut</td>\n",
              "    </tr>\n",
              "    <tr>\n",
              "      <th>1</th>\n",
              "      <td>0</td>\n",
              "      <td>2016.0</td>\n",
              "      <td>ford</td>\n",
              "      <td>f-150</td>\n",
              "      <td>excellent</td>\n",
              "      <td>gas</td>\n",
              "      <td>clean</td>\n",
              "      <td>automatic</td>\n",
              "      <td>4wd</td>\n",
              "      <td>NaN</td>\n",
              "      <td>ut</td>\n",
              "    </tr>\n",
              "    <tr>\n",
              "      <th>2</th>\n",
              "      <td>46463</td>\n",
              "      <td>2015.0</td>\n",
              "      <td>gmc</td>\n",
              "      <td>sierra 1500</td>\n",
              "      <td>excellent</td>\n",
              "      <td>gas</td>\n",
              "      <td>clean</td>\n",
              "      <td>automatic</td>\n",
              "      <td>4wd</td>\n",
              "      <td>white</td>\n",
              "      <td>ut</td>\n",
              "    </tr>\n",
              "    <tr>\n",
              "      <th>3</th>\n",
              "      <td>0</td>\n",
              "      <td>2016.0</td>\n",
              "      <td>ford</td>\n",
              "      <td>f-150</td>\n",
              "      <td>excellent</td>\n",
              "      <td>gas</td>\n",
              "      <td>clean</td>\n",
              "      <td>automatic</td>\n",
              "      <td>4wd</td>\n",
              "      <td>NaN</td>\n",
              "      <td>ut</td>\n",
              "    </tr>\n",
              "    <tr>\n",
              "      <th>4</th>\n",
              "      <td>49999</td>\n",
              "      <td>2018.0</td>\n",
              "      <td>ford</td>\n",
              "      <td>f-450</td>\n",
              "      <td>NaN</td>\n",
              "      <td>diesel</td>\n",
              "      <td>clean</td>\n",
              "      <td>automatic</td>\n",
              "      <td>4wd</td>\n",
              "      <td>white</td>\n",
              "      <td>ut</td>\n",
              "    </tr>\n",
              "  </tbody>\n",
              "</table>\n",
              "</div>"
            ],
            "text/plain": [
              "   price    year manufacturer        model  ... transmission drive paint_color state\n",
              "0  17899  2012.0   volkswagen       golf r  ...       manual   4wd       black    ut\n",
              "1      0  2016.0         ford        f-150  ...    automatic   4wd         NaN    ut\n",
              "2  46463  2015.0          gmc  sierra 1500  ...    automatic   4wd       white    ut\n",
              "3      0  2016.0         ford        f-150  ...    automatic   4wd         NaN    ut\n",
              "4  49999  2018.0         ford        f-450  ...    automatic   4wd       white    ut\n",
              "\n",
              "[5 rows x 11 columns]"
            ]
          },
          "metadata": {
            "tags": []
          },
          "execution_count": 46
        }
      ]
    },
    {
      "cell_type": "markdown",
      "metadata": {
        "id": "BwfTDfxlX3MA",
        "colab_type": "text"
      },
      "source": [
        "**Cek data kosong/null**"
      ]
    },
    {
      "cell_type": "code",
      "metadata": {
        "id": "qJBZMf0uW72r",
        "colab_type": "code",
        "outputId": "729ecd89-4f77-4cb0-9d94-a70c82f95dea",
        "colab": {
          "base_uri": "https://localhost:8080/",
          "height": 419
        }
      },
      "source": [
        "df[df.isnull().any(axis=1)]"
      ],
      "execution_count": 0,
      "outputs": [
        {
          "output_type": "execute_result",
          "data": {
            "text/html": [
              "<div>\n",
              "<style scoped>\n",
              "    .dataframe tbody tr th:only-of-type {\n",
              "        vertical-align: middle;\n",
              "    }\n",
              "\n",
              "    .dataframe tbody tr th {\n",
              "        vertical-align: top;\n",
              "    }\n",
              "\n",
              "    .dataframe thead th {\n",
              "        text-align: right;\n",
              "    }\n",
              "</style>\n",
              "<table border=\"1\" class=\"dataframe\">\n",
              "  <thead>\n",
              "    <tr style=\"text-align: right;\">\n",
              "      <th></th>\n",
              "      <th>price</th>\n",
              "      <th>year</th>\n",
              "      <th>manufacturer</th>\n",
              "      <th>model</th>\n",
              "      <th>condition</th>\n",
              "      <th>fuel</th>\n",
              "      <th>title_status</th>\n",
              "      <th>transmission</th>\n",
              "      <th>drive</th>\n",
              "      <th>paint_color</th>\n",
              "      <th>state</th>\n",
              "    </tr>\n",
              "  </thead>\n",
              "  <tbody>\n",
              "    <tr>\n",
              "      <th>1</th>\n",
              "      <td>0</td>\n",
              "      <td>2016.0</td>\n",
              "      <td>ford</td>\n",
              "      <td>f-150</td>\n",
              "      <td>excellent</td>\n",
              "      <td>gas</td>\n",
              "      <td>clean</td>\n",
              "      <td>automatic</td>\n",
              "      <td>4wd</td>\n",
              "      <td>NaN</td>\n",
              "      <td>ut</td>\n",
              "    </tr>\n",
              "    <tr>\n",
              "      <th>3</th>\n",
              "      <td>0</td>\n",
              "      <td>2016.0</td>\n",
              "      <td>ford</td>\n",
              "      <td>f-150</td>\n",
              "      <td>excellent</td>\n",
              "      <td>gas</td>\n",
              "      <td>clean</td>\n",
              "      <td>automatic</td>\n",
              "      <td>4wd</td>\n",
              "      <td>NaN</td>\n",
              "      <td>ut</td>\n",
              "    </tr>\n",
              "    <tr>\n",
              "      <th>4</th>\n",
              "      <td>49999</td>\n",
              "      <td>2018.0</td>\n",
              "      <td>ford</td>\n",
              "      <td>f-450</td>\n",
              "      <td>NaN</td>\n",
              "      <td>diesel</td>\n",
              "      <td>clean</td>\n",
              "      <td>automatic</td>\n",
              "      <td>4wd</td>\n",
              "      <td>white</td>\n",
              "      <td>ut</td>\n",
              "    </tr>\n",
              "    <tr>\n",
              "      <th>5</th>\n",
              "      <td>13999</td>\n",
              "      <td>2009.0</td>\n",
              "      <td>ram</td>\n",
              "      <td>NaN</td>\n",
              "      <td>NaN</td>\n",
              "      <td>gas</td>\n",
              "      <td>clean</td>\n",
              "      <td>automatic</td>\n",
              "      <td>4wd</td>\n",
              "      <td>silver</td>\n",
              "      <td>ut</td>\n",
              "    </tr>\n",
              "    <tr>\n",
              "      <th>6</th>\n",
              "      <td>34500</td>\n",
              "      <td>2017.0</td>\n",
              "      <td>ford</td>\n",
              "      <td>f-350</td>\n",
              "      <td>NaN</td>\n",
              "      <td>diesel</td>\n",
              "      <td>clean</td>\n",
              "      <td>automatic</td>\n",
              "      <td>4wd</td>\n",
              "      <td>white</td>\n",
              "      <td>ut</td>\n",
              "    </tr>\n",
              "    <tr>\n",
              "      <th>...</th>\n",
              "      <td>...</td>\n",
              "      <td>...</td>\n",
              "      <td>...</td>\n",
              "      <td>...</td>\n",
              "      <td>...</td>\n",
              "      <td>...</td>\n",
              "      <td>...</td>\n",
              "      <td>...</td>\n",
              "      <td>...</td>\n",
              "      <td>...</td>\n",
              "      <td>...</td>\n",
              "    </tr>\n",
              "    <tr>\n",
              "      <th>19996</th>\n",
              "      <td>49999</td>\n",
              "      <td>2016.0</td>\n",
              "      <td>ram</td>\n",
              "      <td>cummin 2500 laramie</td>\n",
              "      <td>NaN</td>\n",
              "      <td>diesel</td>\n",
              "      <td>clean</td>\n",
              "      <td>automatic</td>\n",
              "      <td>4wd</td>\n",
              "      <td>grey</td>\n",
              "      <td>wa</td>\n",
              "    </tr>\n",
              "    <tr>\n",
              "      <th>19997</th>\n",
              "      <td>12127</td>\n",
              "      <td>2018.0</td>\n",
              "      <td>nissan</td>\n",
              "      <td>sentra</td>\n",
              "      <td>NaN</td>\n",
              "      <td>gas</td>\n",
              "      <td>clean</td>\n",
              "      <td>automatic</td>\n",
              "      <td>fwd</td>\n",
              "      <td>NaN</td>\n",
              "      <td>wa</td>\n",
              "    </tr>\n",
              "    <tr>\n",
              "      <th>19998</th>\n",
              "      <td>0</td>\n",
              "      <td>2019.0</td>\n",
              "      <td>jeep</td>\n",
              "      <td>grand cherokee limited</td>\n",
              "      <td>NaN</td>\n",
              "      <td>gas</td>\n",
              "      <td>clean</td>\n",
              "      <td>automatic</td>\n",
              "      <td>4wd</td>\n",
              "      <td>NaN</td>\n",
              "      <td>wa</td>\n",
              "    </tr>\n",
              "    <tr>\n",
              "      <th>19999</th>\n",
              "      <td>14661</td>\n",
              "      <td>2017.0</td>\n",
              "      <td>toyota</td>\n",
              "      <td>corolla</td>\n",
              "      <td>NaN</td>\n",
              "      <td>gas</td>\n",
              "      <td>clean</td>\n",
              "      <td>automatic</td>\n",
              "      <td>fwd</td>\n",
              "      <td>NaN</td>\n",
              "      <td>wa</td>\n",
              "    </tr>\n",
              "    <tr>\n",
              "      <th>20000</th>\n",
              "      <td>35999</td>\n",
              "      <td>2019.0</td>\n",
              "      <td>toyota</td>\n",
              "      <td>4runner sr5 4x4 gas suv</td>\n",
              "      <td>NaN</td>\n",
              "      <td>gas</td>\n",
              "      <td>clean</td>\n",
              "      <td>automatic</td>\n",
              "      <td>4wd</td>\n",
              "      <td>black</td>\n",
              "      <td>wa</td>\n",
              "    </tr>\n",
              "  </tbody>\n",
              "</table>\n",
              "<p>12567 rows × 11 columns</p>\n",
              "</div>"
            ],
            "text/plain": [
              "       price    year manufacturer  ... drive paint_color state\n",
              "1          0  2016.0         ford  ...   4wd         NaN    ut\n",
              "3          0  2016.0         ford  ...   4wd         NaN    ut\n",
              "4      49999  2018.0         ford  ...   4wd       white    ut\n",
              "5      13999  2009.0          ram  ...   4wd      silver    ut\n",
              "6      34500  2017.0         ford  ...   4wd       white    ut\n",
              "...      ...     ...          ...  ...   ...         ...   ...\n",
              "19996  49999  2016.0          ram  ...   4wd        grey    wa\n",
              "19997  12127  2018.0       nissan  ...   fwd         NaN    wa\n",
              "19998      0  2019.0         jeep  ...   4wd         NaN    wa\n",
              "19999  14661  2017.0       toyota  ...   fwd         NaN    wa\n",
              "20000  35999  2019.0       toyota  ...   4wd       black    wa\n",
              "\n",
              "[12567 rows x 11 columns]"
            ]
          },
          "metadata": {
            "tags": []
          },
          "execution_count": 47
        }
      ]
    },
    {
      "cell_type": "code",
      "metadata": {
        "id": "biXOP8MZcX7w",
        "colab_type": "code",
        "outputId": "3777b749-2dfe-402e-b8cf-b020a76fb29e",
        "colab": {
          "base_uri": "https://localhost:8080/",
          "height": 221
        }
      },
      "source": [
        "# Jumlah data kosong untuk setiap kolom\n",
        "print(df.isnull().sum())"
      ],
      "execution_count": 0,
      "outputs": [
        {
          "output_type": "stream",
          "text": [
            "price              0\n",
            "year              12\n",
            "manufacturer     705\n",
            "model            265\n",
            "condition       9152\n",
            "fuel              73\n",
            "title_status     110\n",
            "transmission     190\n",
            "drive           4642\n",
            "paint_color     5514\n",
            "state              0\n",
            "dtype: int64\n"
          ],
          "name": "stdout"
        }
      ]
    },
    {
      "cell_type": "code",
      "metadata": {
        "id": "sHFJJs5NP-GJ",
        "colab_type": "code",
        "outputId": "be06a30d-1ed3-46d4-ebb8-f279348c4058",
        "colab": {
          "base_uri": "https://localhost:8080/",
          "height": 221
        }
      },
      "source": [
        "df.dtypes"
      ],
      "execution_count": 0,
      "outputs": [
        {
          "output_type": "execute_result",
          "data": {
            "text/plain": [
              "price             int64\n",
              "year            float64\n",
              "manufacturer     object\n",
              "model            object\n",
              "condition        object\n",
              "fuel             object\n",
              "title_status     object\n",
              "transmission     object\n",
              "drive            object\n",
              "paint_color      object\n",
              "state            object\n",
              "dtype: object"
            ]
          },
          "metadata": {
            "tags": []
          },
          "execution_count": 49
        }
      ]
    },
    {
      "cell_type": "markdown",
      "metadata": {
        "id": "5xbjWk8RremD",
        "colab_type": "text"
      },
      "source": [
        "**Handling missing value untuk type int dan float**\n",
        "\n"
      ]
    },
    {
      "cell_type": "code",
      "metadata": {
        "id": "t-Krp4_-reDy",
        "colab_type": "code",
        "colab": {}
      },
      "source": [
        "# Untuk Missing value bertipe int dan float, mengisinya dengan mean (rata-rata) nilai\n",
        "df.year.fillna(df.year.mean(),inplace=True)"
      ],
      "execution_count": 0,
      "outputs": []
    },
    {
      "cell_type": "code",
      "metadata": {
        "id": "cNLQlZ4iQyhF",
        "colab_type": "code",
        "outputId": "243b32c1-bfbe-408d-a9a2-bbcea8d95418",
        "colab": {
          "base_uri": "https://localhost:8080/",
          "height": 297
        }
      },
      "source": [
        "df.describe()"
      ],
      "execution_count": 0,
      "outputs": [
        {
          "output_type": "execute_result",
          "data": {
            "text/html": [
              "<div>\n",
              "<style scoped>\n",
              "    .dataframe tbody tr th:only-of-type {\n",
              "        vertical-align: middle;\n",
              "    }\n",
              "\n",
              "    .dataframe tbody tr th {\n",
              "        vertical-align: top;\n",
              "    }\n",
              "\n",
              "    .dataframe thead th {\n",
              "        text-align: right;\n",
              "    }\n",
              "</style>\n",
              "<table border=\"1\" class=\"dataframe\">\n",
              "  <thead>\n",
              "    <tr style=\"text-align: right;\">\n",
              "      <th></th>\n",
              "      <th>price</th>\n",
              "      <th>year</th>\n",
              "    </tr>\n",
              "  </thead>\n",
              "  <tbody>\n",
              "    <tr>\n",
              "      <th>count</th>\n",
              "      <td>2.000100e+04</td>\n",
              "      <td>20001.000000</td>\n",
              "    </tr>\n",
              "    <tr>\n",
              "      <th>mean</th>\n",
              "      <td>7.664058e+04</td>\n",
              "      <td>2009.830657</td>\n",
              "    </tr>\n",
              "    <tr>\n",
              "      <th>std</th>\n",
              "      <td>8.335762e+06</td>\n",
              "      <td>7.911238</td>\n",
              "    </tr>\n",
              "    <tr>\n",
              "      <th>min</th>\n",
              "      <td>0.000000e+00</td>\n",
              "      <td>1917.000000</td>\n",
              "    </tr>\n",
              "    <tr>\n",
              "      <th>25%</th>\n",
              "      <td>3.970000e+03</td>\n",
              "      <td>2007.000000</td>\n",
              "    </tr>\n",
              "    <tr>\n",
              "      <th>50%</th>\n",
              "      <td>8.795000e+03</td>\n",
              "      <td>2011.000000</td>\n",
              "    </tr>\n",
              "    <tr>\n",
              "      <th>75%</th>\n",
              "      <td>1.749500e+04</td>\n",
              "      <td>2015.000000</td>\n",
              "    </tr>\n",
              "    <tr>\n",
              "      <th>max</th>\n",
              "      <td>1.172420e+09</td>\n",
              "      <td>2020.000000</td>\n",
              "    </tr>\n",
              "  </tbody>\n",
              "</table>\n",
              "</div>"
            ],
            "text/plain": [
              "              price          year\n",
              "count  2.000100e+04  20001.000000\n",
              "mean   7.664058e+04   2009.830657\n",
              "std    8.335762e+06      7.911238\n",
              "min    0.000000e+00   1917.000000\n",
              "25%    3.970000e+03   2007.000000\n",
              "50%    8.795000e+03   2011.000000\n",
              "75%    1.749500e+04   2015.000000\n",
              "max    1.172420e+09   2020.000000"
            ]
          },
          "metadata": {
            "tags": []
          },
          "execution_count": 51
        }
      ]
    },
    {
      "cell_type": "markdown",
      "metadata": {
        "id": "sQbsojcSUwuf",
        "colab_type": "text"
      },
      "source": [
        "**Handling missing value untuk type object**"
      ]
    },
    {
      "cell_type": "code",
      "metadata": {
        "id": "SF2ot3SwVAb8",
        "colab_type": "code",
        "outputId": "19c90fad-7fb1-42bf-f3af-a6b64b350de9",
        "colab": {
          "base_uri": "https://localhost:8080/",
          "height": 221
        }
      },
      "source": [
        "df.dtypes"
      ],
      "execution_count": 0,
      "outputs": [
        {
          "output_type": "execute_result",
          "data": {
            "text/plain": [
              "price             int64\n",
              "year            float64\n",
              "manufacturer     object\n",
              "model            object\n",
              "condition        object\n",
              "fuel             object\n",
              "title_status     object\n",
              "transmission     object\n",
              "drive            object\n",
              "paint_color      object\n",
              "state            object\n",
              "dtype: object"
            ]
          },
          "metadata": {
            "tags": []
          },
          "execution_count": 52
        }
      ]
    },
    {
      "cell_type": "code",
      "metadata": {
        "id": "OvNKPoYfYMiN",
        "colab_type": "code",
        "outputId": "05fd526f-c40d-49c2-b1b9-093281207f8e",
        "colab": {
          "base_uri": "https://localhost:8080/",
          "height": 34
        }
      },
      "source": [
        "print(len(df['manufacturer'].unique()))\n",
        "# df.manufacturer.value_counts()\n",
        "df[\"manufacturer\"].fillna(\"ford\", inplace = True)"
      ],
      "execution_count": 0,
      "outputs": [
        {
          "output_type": "stream",
          "text": [
            "41\n"
          ],
          "name": "stdout"
        }
      ]
    },
    {
      "cell_type": "code",
      "metadata": {
        "id": "343wvZ1MxWUT",
        "colab_type": "code",
        "outputId": "7b4a2deb-122d-4d8c-f936-2c2d6ff66934",
        "colab": {
          "base_uri": "https://localhost:8080/",
          "height": 34
        }
      },
      "source": [
        "print(len(df['model'].unique()))\n",
        "# df.model.value_counts()\n",
        "df[\"model\"].fillna(\"f-150\", inplace = True)"
      ],
      "execution_count": 0,
      "outputs": [
        {
          "output_type": "stream",
          "text": [
            "4145\n"
          ],
          "name": "stdout"
        }
      ]
    },
    {
      "cell_type": "code",
      "metadata": {
        "id": "EGvhIF89wtHF",
        "colab_type": "code",
        "outputId": "2d974894-9ed1-472b-bcf9-df6d3960e06c",
        "colab": {
          "base_uri": "https://localhost:8080/",
          "height": 34
        }
      },
      "source": [
        "print(len(df['condition'].unique()))\n",
        "# df.condition.value_counts()\n",
        "df[\"condition\"].fillna(\"excellent\", inplace = True)"
      ],
      "execution_count": 0,
      "outputs": [
        {
          "output_type": "stream",
          "text": [
            "7\n"
          ],
          "name": "stdout"
        }
      ]
    },
    {
      "cell_type": "code",
      "metadata": {
        "id": "jFI1eoKLb2Gv",
        "colab_type": "code",
        "outputId": "c0f8857e-d839-41c7-8156-d06e217e81c8",
        "colab": {
          "base_uri": "https://localhost:8080/",
          "height": 34
        }
      },
      "source": [
        "print(len(df['fuel'].unique()))\n",
        "# df.fuel.value_counts()\n",
        "df[\"fuel\"].fillna(\"gas\", inplace = True)"
      ],
      "execution_count": 0,
      "outputs": [
        {
          "output_type": "stream",
          "text": [
            "6\n"
          ],
          "name": "stdout"
        }
      ]
    },
    {
      "cell_type": "code",
      "metadata": {
        "id": "5kKvicPzbzhN",
        "colab_type": "code",
        "outputId": "98d289bb-8a7a-496d-e0c2-c31065739141",
        "colab": {
          "base_uri": "https://localhost:8080/",
          "height": 34
        }
      },
      "source": [
        "print(len(df['title_status'].unique()))\n",
        "# df.title_status.value_counts()\n",
        "df[\"title_status\"].fillna(\"clean\", inplace = True)"
      ],
      "execution_count": 0,
      "outputs": [
        {
          "output_type": "stream",
          "text": [
            "7\n"
          ],
          "name": "stdout"
        }
      ]
    },
    {
      "cell_type": "code",
      "metadata": {
        "id": "2MdAs6DwcN8n",
        "colab_type": "code",
        "outputId": "f37fc4e5-2077-48d8-8cf1-11cecf89733a",
        "colab": {
          "base_uri": "https://localhost:8080/",
          "height": 34
        }
      },
      "source": [
        "print(len(df['transmission'].unique()))\n",
        "df.transmission.value_counts()\n",
        "df[\"transmission\"].fillna(\"automatic\", inplace = True)"
      ],
      "execution_count": 0,
      "outputs": [
        {
          "output_type": "stream",
          "text": [
            "4\n"
          ],
          "name": "stdout"
        }
      ]
    },
    {
      "cell_type": "code",
      "metadata": {
        "id": "segmfGrWxAIB",
        "colab_type": "code",
        "outputId": "7e62a891-02e8-413e-ba62-34b010cf81f3",
        "colab": {
          "base_uri": "https://localhost:8080/",
          "height": 34
        }
      },
      "source": [
        "print(len(df['drive'].unique()))\n",
        "# df.drive.value_counts()\n",
        "df[\"drive\"].fillna(\"4wd\", inplace = True)"
      ],
      "execution_count": 0,
      "outputs": [
        {
          "output_type": "stream",
          "text": [
            "4\n"
          ],
          "name": "stdout"
        }
      ]
    },
    {
      "cell_type": "code",
      "metadata": {
        "id": "VhlQb-YrxLqZ",
        "colab_type": "code",
        "outputId": "d3637a18-ff98-4213-a298-afcdc8d797d6",
        "colab": {
          "base_uri": "https://localhost:8080/",
          "height": 34
        }
      },
      "source": [
        "print(len(df['paint_color'].unique()))\n",
        "# df.paint_color.value_counts()\n",
        "df[\"paint_color\"].fillna(\"white\", inplace = True)"
      ],
      "execution_count": 0,
      "outputs": [
        {
          "output_type": "stream",
          "text": [
            "13\n"
          ],
          "name": "stdout"
        }
      ]
    },
    {
      "cell_type": "code",
      "metadata": {
        "id": "LJCuDr-LSL2G",
        "colab_type": "code",
        "outputId": "ac7cc9a2-edcb-4b7b-f9c1-5e8a978306d4",
        "colab": {
          "base_uri": "https://localhost:8080/",
          "height": 221
        }
      },
      "source": [
        "print(df.isnull().sum())"
      ],
      "execution_count": 0,
      "outputs": [
        {
          "output_type": "stream",
          "text": [
            "price           0\n",
            "year            0\n",
            "manufacturer    0\n",
            "model           0\n",
            "condition       0\n",
            "fuel            0\n",
            "title_status    0\n",
            "transmission    0\n",
            "drive           0\n",
            "paint_color     0\n",
            "state           0\n",
            "dtype: int64\n"
          ],
          "name": "stdout"
        }
      ]
    },
    {
      "cell_type": "code",
      "metadata": {
        "id": "4xeCP_tsAZWO",
        "colab_type": "code",
        "outputId": "9889f4e3-6027-4de4-f815-c1470a7c7fb4",
        "colab": {
          "base_uri": "https://localhost:8080/",
          "height": 221
        }
      },
      "source": [
        "df.dtypes"
      ],
      "execution_count": 0,
      "outputs": [
        {
          "output_type": "execute_result",
          "data": {
            "text/plain": [
              "price             int64\n",
              "year            float64\n",
              "manufacturer     object\n",
              "model            object\n",
              "condition        object\n",
              "fuel             object\n",
              "title_status     object\n",
              "transmission     object\n",
              "drive            object\n",
              "paint_color      object\n",
              "state            object\n",
              "dtype: object"
            ]
          },
          "metadata": {
            "tags": []
          },
          "execution_count": 62
        }
      ]
    },
    {
      "cell_type": "markdown",
      "metadata": {
        "id": "RsI4mycfJJVt",
        "colab_type": "text"
      },
      "source": [
        "# Encode object to int/float"
      ]
    },
    {
      "cell_type": "code",
      "metadata": {
        "id": "oc3PJUQvJOeu",
        "colab_type": "code",
        "colab": {}
      },
      "source": [
        "from sklearn.preprocessing import LabelEncoder\n",
        "encoder = LabelEncoder()"
      ],
      "execution_count": 0,
      "outputs": []
    },
    {
      "cell_type": "code",
      "metadata": {
        "id": "16pkQ-yECsco",
        "colab_type": "code",
        "colab": {}
      },
      "source": [
        "df['manufacturer'] = encoder.fit_transform(df['manufacturer'])\n",
        "df['model'] = encoder.fit_transform(df['model'])\n",
        "df['condition'] = encoder.fit_transform(df['condition'])\n",
        "df['fuel'] = encoder.fit_transform(df['fuel'])\n",
        "df['title_status'] = encoder.fit_transform(df['title_status'])\n",
        "df['transmission'] = encoder.fit_transform(df['transmission'])\n",
        "df['drive'] = encoder.fit_transform(df['drive'])\n",
        "df['paint_color'] = encoder.fit_transform(df['paint_color'])\n",
        "df['state'] = encoder.fit_transform(df['state'])"
      ],
      "execution_count": 0,
      "outputs": []
    },
    {
      "cell_type": "code",
      "metadata": {
        "id": "UwBxRUkSC2z7",
        "colab_type": "code",
        "outputId": "2db8f730-f9ce-4872-9e62-b02f3fb5bab9",
        "colab": {
          "base_uri": "https://localhost:8080/",
          "height": 221
        }
      },
      "source": [
        "df.dtypes"
      ],
      "execution_count": 0,
      "outputs": [
        {
          "output_type": "execute_result",
          "data": {
            "text/plain": [
              "price             int64\n",
              "year            float64\n",
              "manufacturer      int64\n",
              "model             int64\n",
              "condition         int64\n",
              "fuel              int64\n",
              "title_status      int64\n",
              "transmission      int64\n",
              "drive             int64\n",
              "paint_color       int64\n",
              "state             int64\n",
              "dtype: object"
            ]
          },
          "metadata": {
            "tags": []
          },
          "execution_count": 65
        }
      ]
    },
    {
      "cell_type": "code",
      "metadata": {
        "id": "BIjP5UrGDBnh",
        "colab_type": "code",
        "outputId": "1f9da2fa-3e4a-4e04-ccd6-38985af3e5a2",
        "colab": {
          "base_uri": "https://localhost:8080/",
          "height": 204
        }
      },
      "source": [
        "df.head()"
      ],
      "execution_count": 0,
      "outputs": [
        {
          "output_type": "execute_result",
          "data": {
            "text/html": [
              "<div>\n",
              "<style scoped>\n",
              "    .dataframe tbody tr th:only-of-type {\n",
              "        vertical-align: middle;\n",
              "    }\n",
              "\n",
              "    .dataframe tbody tr th {\n",
              "        vertical-align: top;\n",
              "    }\n",
              "\n",
              "    .dataframe thead th {\n",
              "        text-align: right;\n",
              "    }\n",
              "</style>\n",
              "<table border=\"1\" class=\"dataframe\">\n",
              "  <thead>\n",
              "    <tr style=\"text-align: right;\">\n",
              "      <th></th>\n",
              "      <th>price</th>\n",
              "      <th>year</th>\n",
              "      <th>manufacturer</th>\n",
              "      <th>model</th>\n",
              "      <th>condition</th>\n",
              "      <th>fuel</th>\n",
              "      <th>title_status</th>\n",
              "      <th>transmission</th>\n",
              "      <th>drive</th>\n",
              "      <th>paint_color</th>\n",
              "      <th>state</th>\n",
              "    </tr>\n",
              "  </thead>\n",
              "  <tbody>\n",
              "    <tr>\n",
              "      <th>0</th>\n",
              "      <td>17899</td>\n",
              "      <td>2012.0</td>\n",
              "      <td>38</td>\n",
              "      <td>2197</td>\n",
              "      <td>0</td>\n",
              "      <td>2</td>\n",
              "      <td>0</td>\n",
              "      <td>1</td>\n",
              "      <td>0</td>\n",
              "      <td>0</td>\n",
              "      <td>0</td>\n",
              "    </tr>\n",
              "    <tr>\n",
              "      <th>1</th>\n",
              "      <td>0</td>\n",
              "      <td>2016.0</td>\n",
              "      <td>12</td>\n",
              "      <td>1764</td>\n",
              "      <td>0</td>\n",
              "      <td>2</td>\n",
              "      <td>0</td>\n",
              "      <td>0</td>\n",
              "      <td>0</td>\n",
              "      <td>10</td>\n",
              "      <td>0</td>\n",
              "    </tr>\n",
              "    <tr>\n",
              "      <th>2</th>\n",
              "      <td>46463</td>\n",
              "      <td>2015.0</td>\n",
              "      <td>13</td>\n",
              "      <td>3285</td>\n",
              "      <td>0</td>\n",
              "      <td>2</td>\n",
              "      <td>0</td>\n",
              "      <td>0</td>\n",
              "      <td>0</td>\n",
              "      <td>10</td>\n",
              "      <td>0</td>\n",
              "    </tr>\n",
              "    <tr>\n",
              "      <th>3</th>\n",
              "      <td>0</td>\n",
              "      <td>2016.0</td>\n",
              "      <td>12</td>\n",
              "      <td>1764</td>\n",
              "      <td>0</td>\n",
              "      <td>2</td>\n",
              "      <td>0</td>\n",
              "      <td>0</td>\n",
              "      <td>0</td>\n",
              "      <td>10</td>\n",
              "      <td>0</td>\n",
              "    </tr>\n",
              "    <tr>\n",
              "      <th>4</th>\n",
              "      <td>49999</td>\n",
              "      <td>2018.0</td>\n",
              "      <td>12</td>\n",
              "      <td>1843</td>\n",
              "      <td>0</td>\n",
              "      <td>0</td>\n",
              "      <td>0</td>\n",
              "      <td>0</td>\n",
              "      <td>0</td>\n",
              "      <td>10</td>\n",
              "      <td>0</td>\n",
              "    </tr>\n",
              "  </tbody>\n",
              "</table>\n",
              "</div>"
            ],
            "text/plain": [
              "   price    year  manufacturer  model  ...  transmission  drive  paint_color  state\n",
              "0  17899  2012.0            38   2197  ...             1      0            0      0\n",
              "1      0  2016.0            12   1764  ...             0      0           10      0\n",
              "2  46463  2015.0            13   3285  ...             0      0           10      0\n",
              "3      0  2016.0            12   1764  ...             0      0           10      0\n",
              "4  49999  2018.0            12   1843  ...             0      0           10      0\n",
              "\n",
              "[5 rows x 11 columns]"
            ]
          },
          "metadata": {
            "tags": []
          },
          "execution_count": 66
        }
      ]
    },
    {
      "cell_type": "markdown",
      "metadata": {
        "id": "bqmxnR4LyG7L",
        "colab_type": "text"
      },
      "source": [
        "# Outlier (Tidak pakai)"
      ]
    },
    {
      "cell_type": "code",
      "metadata": {
        "id": "o0_hhUpyfeQA",
        "colab_type": "code",
        "outputId": "6239a148-d485-403b-fe66-2f32eb9794f8",
        "colab": {
          "base_uri": "https://localhost:8080/",
          "height": 356
        }
      },
      "source": [
        "import matplotlib as mpl\n",
        "from matplotlib import pyplot as plt\n",
        "mpl.rcParams['figure.dpi'] = 100\n",
        "plt.figure(figsize=(100, 100))\n",
        "f, axes = plt.subplots(1, 2)\n",
        "sns.boxplot(y=df[\"transmission\"], ax=axes[0])\n",
        "sns.boxplot(y=df[\"drive\"], ax=axes[1])\n",
        "plt.subplots_adjust(wspace=1)"
      ],
      "execution_count": 0,
      "outputs": [
        {
          "output_type": "display_data",
          "data": {
            "text/plain": [
              "<Figure size 10000x10000 with 0 Axes>"
            ]
          },
          "metadata": {
            "tags": []
          }
        },
        {
          "output_type": "display_data",
          "data": {
            "image/png": "[encoded data removed]",
            "text/plain": [
              "<Figure size 600x400 with 2 Axes>"
            ]
          },
          "metadata": {
            "tags": []
          }
        }
      ]
    },
    {
      "cell_type": "markdown",
      "metadata": {
        "id": "Y7PG_RXdkFIE",
        "colab_type": "text"
      },
      "source": [
        "# Scalling"
      ]
    },
    {
      "cell_type": "code",
      "metadata": {
        "id": "h_sLX83f1DAh",
        "colab_type": "code",
        "outputId": "fd2537dd-c9ca-49f7-f29b-c612c5896b83",
        "colab": {
          "base_uri": "https://localhost:8080/",
          "height": 204
        }
      },
      "source": [
        "df.head()"
      ],
      "execution_count": 0,
      "outputs": [
        {
          "output_type": "execute_result",
          "data": {
            "text/html": [
              "<div>\n",
              "<style scoped>\n",
              "    .dataframe tbody tr th:only-of-type {\n",
              "        vertical-align: middle;\n",
              "    }\n",
              "\n",
              "    .dataframe tbody tr th {\n",
              "        vertical-align: top;\n",
              "    }\n",
              "\n",
              "    .dataframe thead th {\n",
              "        text-align: right;\n",
              "    }\n",
              "</style>\n",
              "<table border=\"1\" class=\"dataframe\">\n",
              "  <thead>\n",
              "    <tr style=\"text-align: right;\">\n",
              "      <th></th>\n",
              "      <th>price</th>\n",
              "      <th>year</th>\n",
              "      <th>manufacturer</th>\n",
              "      <th>model</th>\n",
              "      <th>condition</th>\n",
              "      <th>fuel</th>\n",
              "      <th>title_status</th>\n",
              "      <th>transmission</th>\n",
              "      <th>drive</th>\n",
              "      <th>paint_color</th>\n",
              "      <th>state</th>\n",
              "    </tr>\n",
              "  </thead>\n",
              "  <tbody>\n",
              "    <tr>\n",
              "      <th>0</th>\n",
              "      <td>17899</td>\n",
              "      <td>2012.0</td>\n",
              "      <td>38</td>\n",
              "      <td>2197</td>\n",
              "      <td>0</td>\n",
              "      <td>2</td>\n",
              "      <td>0</td>\n",
              "      <td>1</td>\n",
              "      <td>0</td>\n",
              "      <td>0</td>\n",
              "      <td>0</td>\n",
              "    </tr>\n",
              "    <tr>\n",
              "      <th>1</th>\n",
              "      <td>0</td>\n",
              "      <td>2016.0</td>\n",
              "      <td>12</td>\n",
              "      <td>1764</td>\n",
              "      <td>0</td>\n",
              "      <td>2</td>\n",
              "      <td>0</td>\n",
              "      <td>0</td>\n",
              "      <td>0</td>\n",
              "      <td>10</td>\n",
              "      <td>0</td>\n",
              "    </tr>\n",
              "    <tr>\n",
              "      <th>2</th>\n",
              "      <td>46463</td>\n",
              "      <td>2015.0</td>\n",
              "      <td>13</td>\n",
              "      <td>3285</td>\n",
              "      <td>0</td>\n",
              "      <td>2</td>\n",
              "      <td>0</td>\n",
              "      <td>0</td>\n",
              "      <td>0</td>\n",
              "      <td>10</td>\n",
              "      <td>0</td>\n",
              "    </tr>\n",
              "    <tr>\n",
              "      <th>3</th>\n",
              "      <td>0</td>\n",
              "      <td>2016.0</td>\n",
              "      <td>12</td>\n",
              "      <td>1764</td>\n",
              "      <td>0</td>\n",
              "      <td>2</td>\n",
              "      <td>0</td>\n",
              "      <td>0</td>\n",
              "      <td>0</td>\n",
              "      <td>10</td>\n",
              "      <td>0</td>\n",
              "    </tr>\n",
              "    <tr>\n",
              "      <th>4</th>\n",
              "      <td>49999</td>\n",
              "      <td>2018.0</td>\n",
              "      <td>12</td>\n",
              "      <td>1843</td>\n",
              "      <td>0</td>\n",
              "      <td>0</td>\n",
              "      <td>0</td>\n",
              "      <td>0</td>\n",
              "      <td>0</td>\n",
              "      <td>10</td>\n",
              "      <td>0</td>\n",
              "    </tr>\n",
              "  </tbody>\n",
              "</table>\n",
              "</div>"
            ],
            "text/plain": [
              "   price    year  manufacturer  model  ...  transmission  drive  paint_color  state\n",
              "0  17899  2012.0            38   2197  ...             1      0            0      0\n",
              "1      0  2016.0            12   1764  ...             0      0           10      0\n",
              "2  46463  2015.0            13   3285  ...             0      0           10      0\n",
              "3      0  2016.0            12   1764  ...             0      0           10      0\n",
              "4  49999  2018.0            12   1843  ...             0      0           10      0\n",
              "\n",
              "[5 rows x 11 columns]"
            ]
          },
          "metadata": {
            "tags": []
          },
          "execution_count": 68
        }
      ]
    },
    {
      "cell_type": "code",
      "metadata": {
        "id": "RdK7udT1kJLj",
        "colab_type": "code",
        "outputId": "ad71615a-d1c3-4468-bdac-ec91d827783d",
        "colab": {
          "base_uri": "https://localhost:8080/",
          "height": 204
        }
      },
      "source": [
        "from sklearn import preprocessing\n",
        "\n",
        "x = df.values\n",
        "min_max_scaler = preprocessing.MinMaxScaler()\n",
        "x_scaled = min_max_scaler.fit_transform(x)\n",
        "df = pd.DataFrame(x_scaled)\n",
        "df.columns = ['price','year','manufacturer','model','condition','fuel','title_status','transmission','drive','paint_color','state']\n",
        "df.head()"
      ],
      "execution_count": 0,
      "outputs": [
        {
          "output_type": "execute_result",
          "data": {
            "text/html": [
              "<div>\n",
              "<style scoped>\n",
              "    .dataframe tbody tr th:only-of-type {\n",
              "        vertical-align: middle;\n",
              "    }\n",
              "\n",
              "    .dataframe tbody tr th {\n",
              "        vertical-align: top;\n",
              "    }\n",
              "\n",
              "    .dataframe thead th {\n",
              "        text-align: right;\n",
              "    }\n",
              "</style>\n",
              "<table border=\"1\" class=\"dataframe\">\n",
              "  <thead>\n",
              "    <tr style=\"text-align: right;\">\n",
              "      <th></th>\n",
              "      <th>price</th>\n",
              "      <th>year</th>\n",
              "      <th>manufacturer</th>\n",
              "      <th>model</th>\n",
              "      <th>condition</th>\n",
              "      <th>fuel</th>\n",
              "      <th>title_status</th>\n",
              "      <th>transmission</th>\n",
              "      <th>drive</th>\n",
              "      <th>paint_color</th>\n",
              "      <th>state</th>\n",
              "    </tr>\n",
              "  </thead>\n",
              "  <tbody>\n",
              "    <tr>\n",
              "      <th>0</th>\n",
              "      <td>0.000015</td>\n",
              "      <td>0.922330</td>\n",
              "      <td>0.974359</td>\n",
              "      <td>0.530292</td>\n",
              "      <td>0.0</td>\n",
              "      <td>0.5</td>\n",
              "      <td>0.0</td>\n",
              "      <td>0.5</td>\n",
              "      <td>0.0</td>\n",
              "      <td>0.000000</td>\n",
              "      <td>0.0</td>\n",
              "    </tr>\n",
              "    <tr>\n",
              "      <th>1</th>\n",
              "      <td>0.000000</td>\n",
              "      <td>0.961165</td>\n",
              "      <td>0.307692</td>\n",
              "      <td>0.425778</td>\n",
              "      <td>0.0</td>\n",
              "      <td>0.5</td>\n",
              "      <td>0.0</td>\n",
              "      <td>0.0</td>\n",
              "      <td>0.0</td>\n",
              "      <td>0.909091</td>\n",
              "      <td>0.0</td>\n",
              "    </tr>\n",
              "    <tr>\n",
              "      <th>2</th>\n",
              "      <td>0.000040</td>\n",
              "      <td>0.951456</td>\n",
              "      <td>0.333333</td>\n",
              "      <td>0.792904</td>\n",
              "      <td>0.0</td>\n",
              "      <td>0.5</td>\n",
              "      <td>0.0</td>\n",
              "      <td>0.0</td>\n",
              "      <td>0.0</td>\n",
              "      <td>0.909091</td>\n",
              "      <td>0.0</td>\n",
              "    </tr>\n",
              "    <tr>\n",
              "      <th>3</th>\n",
              "      <td>0.000000</td>\n",
              "      <td>0.961165</td>\n",
              "      <td>0.307692</td>\n",
              "      <td>0.425778</td>\n",
              "      <td>0.0</td>\n",
              "      <td>0.5</td>\n",
              "      <td>0.0</td>\n",
              "      <td>0.0</td>\n",
              "      <td>0.0</td>\n",
              "      <td>0.909091</td>\n",
              "      <td>0.0</td>\n",
              "    </tr>\n",
              "    <tr>\n",
              "      <th>4</th>\n",
              "      <td>0.000043</td>\n",
              "      <td>0.980583</td>\n",
              "      <td>0.307692</td>\n",
              "      <td>0.444847</td>\n",
              "      <td>0.0</td>\n",
              "      <td>0.0</td>\n",
              "      <td>0.0</td>\n",
              "      <td>0.0</td>\n",
              "      <td>0.0</td>\n",
              "      <td>0.909091</td>\n",
              "      <td>0.0</td>\n",
              "    </tr>\n",
              "  </tbody>\n",
              "</table>\n",
              "</div>"
            ],
            "text/plain": [
              "      price      year  manufacturer  ...  drive  paint_color  state\n",
              "0  0.000015  0.922330      0.974359  ...    0.0     0.000000    0.0\n",
              "1  0.000000  0.961165      0.307692  ...    0.0     0.909091    0.0\n",
              "2  0.000040  0.951456      0.333333  ...    0.0     0.909091    0.0\n",
              "3  0.000000  0.961165      0.307692  ...    0.0     0.909091    0.0\n",
              "4  0.000043  0.980583      0.307692  ...    0.0     0.909091    0.0\n",
              "\n",
              "[5 rows x 11 columns]"
            ]
          },
          "metadata": {
            "tags": []
          },
          "execution_count": 69
        }
      ]
    },
    {
      "cell_type": "markdown",
      "metadata": {
        "id": "t95Yf46chm5n",
        "colab_type": "text"
      },
      "source": [
        "# Korelasi antar data\n"
      ]
    },
    {
      "cell_type": "code",
      "metadata": {
        "id": "td92jJtgzjbT",
        "colab_type": "code",
        "colab": {}
      },
      "source": [
        "import seaborn as sns\n",
        "from matplotlib import pyplot as plt\n",
        "sns.set_style(\"whitegrid\")"
      ],
      "execution_count": 0,
      "outputs": []
    },
    {
      "cell_type": "code",
      "metadata": {
        "id": "ScCmS_0ohdUA",
        "colab_type": "code",
        "outputId": "b1bdd196-e832-4fd1-c9cb-6061f413d2a8",
        "colab": {
          "base_uri": "https://localhost:8080/",
          "height": 506
        }
      },
      "source": [
        "ambil = df.select_dtypes(include = ['float64', 'int64',]).iloc[:, :].corr()\n",
        "plt.figure(figsize=(5, 5))\n",
        "ax = sns.heatmap(ambil, vmax=1, square=True)\n",
        "plt.xticks(rotation=45)\n",
        "plt.yticks(rotation=45)"
      ],
      "execution_count": 0,
      "outputs": [
        {
          "output_type": "execute_result",
          "data": {
            "text/plain": [
              "(array([ 0.5,  1.5,  2.5,  3.5,  4.5,  5.5,  6.5,  7.5,  8.5,  9.5, 10.5]),\n",
              " <a list of 11 Text major ticklabel objects>)"
            ]
          },
          "metadata": {
            "tags": []
          },
          "execution_count": 71
        },
        {
          "output_type": "display_data",
          "data": {
            "image/png": "[encoded data removed]",
            "text/plain": [
              "<Figure size 500x500 with 2 Axes>"
            ]
          },
          "metadata": {
            "tags": []
          }
        }
      ]
    },
    {
      "cell_type": "code",
      "metadata": {
        "id": "g90w_FM0ioCT",
        "colab_type": "code",
        "outputId": "6bc3eded-42a8-4aed-f1a5-0c2fb81f2972",
        "colab": {
          "base_uri": "https://localhost:8080/",
          "height": 390
        }
      },
      "source": [
        "ambil"
      ],
      "execution_count": 0,
      "outputs": [
        {
          "output_type": "execute_result",
          "data": {
            "text/html": [
              "<div>\n",
              "<style scoped>\n",
              "    .dataframe tbody tr th:only-of-type {\n",
              "        vertical-align: middle;\n",
              "    }\n",
              "\n",
              "    .dataframe tbody tr th {\n",
              "        vertical-align: top;\n",
              "    }\n",
              "\n",
              "    .dataframe thead th {\n",
              "        text-align: right;\n",
              "    }\n",
              "</style>\n",
              "<table border=\"1\" class=\"dataframe\">\n",
              "  <thead>\n",
              "    <tr style=\"text-align: right;\">\n",
              "      <th></th>\n",
              "      <th>price</th>\n",
              "      <th>year</th>\n",
              "      <th>manufacturer</th>\n",
              "      <th>model</th>\n",
              "      <th>condition</th>\n",
              "      <th>fuel</th>\n",
              "      <th>title_status</th>\n",
              "      <th>transmission</th>\n",
              "      <th>drive</th>\n",
              "      <th>paint_color</th>\n",
              "      <th>state</th>\n",
              "    </tr>\n",
              "  </thead>\n",
              "  <tbody>\n",
              "    <tr>\n",
              "      <th>price</th>\n",
              "      <td>1.000000</td>\n",
              "      <td>-0.004382</td>\n",
              "      <td>-0.006752</td>\n",
              "      <td>0.008235</td>\n",
              "      <td>-0.004444</td>\n",
              "      <td>-0.020615</td>\n",
              "      <td>-0.001208</td>\n",
              "      <td>-0.002562</td>\n",
              "      <td>-0.003459</td>\n",
              "      <td>0.004747</td>\n",
              "      <td>-0.003147</td>\n",
              "    </tr>\n",
              "    <tr>\n",
              "      <th>year</th>\n",
              "      <td>-0.004382</td>\n",
              "      <td>1.000000</td>\n",
              "      <td>0.069177</td>\n",
              "      <td>0.042713</td>\n",
              "      <td>-0.109740</td>\n",
              "      <td>0.036020</td>\n",
              "      <td>0.025964</td>\n",
              "      <td>-0.085660</td>\n",
              "      <td>-0.118948</td>\n",
              "      <td>-0.030790</td>\n",
              "      <td>0.122458</td>\n",
              "    </tr>\n",
              "    <tr>\n",
              "      <th>manufacturer</th>\n",
              "      <td>-0.006752</td>\n",
              "      <td>0.069177</td>\n",
              "      <td>1.000000</td>\n",
              "      <td>0.040490</td>\n",
              "      <td>-0.026507</td>\n",
              "      <td>0.006257</td>\n",
              "      <td>0.048211</td>\n",
              "      <td>0.041105</td>\n",
              "      <td>-0.084604</td>\n",
              "      <td>-0.016804</td>\n",
              "      <td>0.063490</td>\n",
              "    </tr>\n",
              "    <tr>\n",
              "      <th>model</th>\n",
              "      <td>0.008235</td>\n",
              "      <td>0.042713</td>\n",
              "      <td>0.040490</td>\n",
              "      <td>1.000000</td>\n",
              "      <td>-0.027583</td>\n",
              "      <td>0.101516</td>\n",
              "      <td>0.003933</td>\n",
              "      <td>-0.019052</td>\n",
              "      <td>-0.113513</td>\n",
              "      <td>-0.000919</td>\n",
              "      <td>0.015843</td>\n",
              "    </tr>\n",
              "    <tr>\n",
              "      <th>condition</th>\n",
              "      <td>-0.004444</td>\n",
              "      <td>-0.109740</td>\n",
              "      <td>-0.026507</td>\n",
              "      <td>-0.027583</td>\n",
              "      <td>1.000000</td>\n",
              "      <td>0.022454</td>\n",
              "      <td>0.083221</td>\n",
              "      <td>0.194189</td>\n",
              "      <td>0.124757</td>\n",
              "      <td>-0.033624</td>\n",
              "      <td>0.019283</td>\n",
              "    </tr>\n",
              "    <tr>\n",
              "      <th>fuel</th>\n",
              "      <td>-0.020615</td>\n",
              "      <td>0.036020</td>\n",
              "      <td>0.006257</td>\n",
              "      <td>0.101516</td>\n",
              "      <td>0.022454</td>\n",
              "      <td>1.000000</td>\n",
              "      <td>0.014437</td>\n",
              "      <td>0.031500</td>\n",
              "      <td>0.038258</td>\n",
              "      <td>-0.041036</td>\n",
              "      <td>0.004221</td>\n",
              "    </tr>\n",
              "    <tr>\n",
              "      <th>title_status</th>\n",
              "      <td>-0.001208</td>\n",
              "      <td>0.025964</td>\n",
              "      <td>0.048211</td>\n",
              "      <td>0.003933</td>\n",
              "      <td>0.083221</td>\n",
              "      <td>0.014437</td>\n",
              "      <td>1.000000</td>\n",
              "      <td>-0.010784</td>\n",
              "      <td>0.005105</td>\n",
              "      <td>-0.003638</td>\n",
              "      <td>0.041385</td>\n",
              "    </tr>\n",
              "    <tr>\n",
              "      <th>transmission</th>\n",
              "      <td>-0.002562</td>\n",
              "      <td>-0.085660</td>\n",
              "      <td>0.041105</td>\n",
              "      <td>-0.019052</td>\n",
              "      <td>0.194189</td>\n",
              "      <td>0.031500</td>\n",
              "      <td>-0.010784</td>\n",
              "      <td>1.000000</td>\n",
              "      <td>0.048205</td>\n",
              "      <td>0.008149</td>\n",
              "      <td>0.036316</td>\n",
              "    </tr>\n",
              "    <tr>\n",
              "      <th>drive</th>\n",
              "      <td>-0.003459</td>\n",
              "      <td>-0.118948</td>\n",
              "      <td>-0.084604</td>\n",
              "      <td>-0.113513</td>\n",
              "      <td>0.124757</td>\n",
              "      <td>0.038258</td>\n",
              "      <td>0.005105</td>\n",
              "      <td>0.048205</td>\n",
              "      <td>1.000000</td>\n",
              "      <td>-0.024032</td>\n",
              "      <td>-0.103944</td>\n",
              "    </tr>\n",
              "    <tr>\n",
              "      <th>paint_color</th>\n",
              "      <td>0.004747</td>\n",
              "      <td>-0.030790</td>\n",
              "      <td>-0.016804</td>\n",
              "      <td>-0.000919</td>\n",
              "      <td>-0.033624</td>\n",
              "      <td>-0.041036</td>\n",
              "      <td>-0.003638</td>\n",
              "      <td>0.008149</td>\n",
              "      <td>-0.024032</td>\n",
              "      <td>1.000000</td>\n",
              "      <td>0.026708</td>\n",
              "    </tr>\n",
              "    <tr>\n",
              "      <th>state</th>\n",
              "      <td>-0.003147</td>\n",
              "      <td>0.122458</td>\n",
              "      <td>0.063490</td>\n",
              "      <td>0.015843</td>\n",
              "      <td>0.019283</td>\n",
              "      <td>0.004221</td>\n",
              "      <td>0.041385</td>\n",
              "      <td>0.036316</td>\n",
              "      <td>-0.103944</td>\n",
              "      <td>0.026708</td>\n",
              "      <td>1.000000</td>\n",
              "    </tr>\n",
              "  </tbody>\n",
              "</table>\n",
              "</div>"
            ],
            "text/plain": [
              "                 price      year  manufacturer  ...     drive  paint_color     state\n",
              "price         1.000000 -0.004382     -0.006752  ... -0.003459     0.004747 -0.003147\n",
              "year         -0.004382  1.000000      0.069177  ... -0.118948    -0.030790  0.122458\n",
              "manufacturer -0.006752  0.069177      1.000000  ... -0.084604    -0.016804  0.063490\n",
              "model         0.008235  0.042713      0.040490  ... -0.113513    -0.000919  0.015843\n",
              "condition    -0.004444 -0.109740     -0.026507  ...  0.124757    -0.033624  0.019283\n",
              "fuel         -0.020615  0.036020      0.006257  ...  0.038258    -0.041036  0.004221\n",
              "title_status -0.001208  0.025964      0.048211  ...  0.005105    -0.003638  0.041385\n",
              "transmission -0.002562 -0.085660      0.041105  ...  0.048205     0.008149  0.036316\n",
              "drive        -0.003459 -0.118948     -0.084604  ...  1.000000    -0.024032 -0.103944\n",
              "paint_color   0.004747 -0.030790     -0.016804  ... -0.024032     1.000000  0.026708\n",
              "state        -0.003147  0.122458      0.063490  ... -0.103944     0.026708  1.000000\n",
              "\n",
              "[11 rows x 11 columns]"
            ]
          },
          "metadata": {
            "tags": []
          },
          "execution_count": 72
        }
      ]
    },
    {
      "cell_type": "markdown",
      "metadata": {
        "id": "ODv0KC_g7UaG",
        "colab_type": "text"
      },
      "source": [
        "# Write to gdrive"
      ]
    },
    {
      "cell_type": "code",
      "metadata": {
        "id": "hkOjAnmZgqd4",
        "colab_type": "code",
        "colab": {}
      },
      "source": [
        "df.to_csv('gdrive/My Drive/used_cars_olah.csv')"
      ],
      "execution_count": 0,
      "outputs": []
    },
    {
      "cell_type": "code",
      "metadata": {
        "id": "wgI9gdjuqEV5",
        "colab_type": "code",
        "colab": {}
      },
      "source": [
        ""
      ],
      "execution_count": 0,
      "outputs": []
    }
  ]
}