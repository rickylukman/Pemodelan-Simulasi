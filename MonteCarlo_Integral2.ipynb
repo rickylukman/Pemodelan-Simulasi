{
  "nbformat": 4,
  "nbformat_minor": 0,
  "metadata": {
    "colab": {
      "name": "MonteCarlo Integral2",
      "provenance": [],
      "collapsed_sections": [],
      "authorship_tag": "ABX9TyN2AB6omyc7ltMKl1kiXsBU",
      "include_colab_link": true
    },
    "kernelspec": {
      "name": "python3",
      "display_name": "Python 3"
    }
  },
  "cells": [
    {
      "cell_type": "markdown",
      "metadata": {
        "id": "view-in-github",
        "colab_type": "text"
      },
      "source": [
        "<a href=\"https://colab.research.google.com/github/rickylukman/Pemodelan-Simulasi/blob/master/MonteCarlo_Integral2.ipynb\" target=\"_parent\"><img src=\"https://colab.research.google.com/assets/colab-badge.svg\" alt=\"Open In Colab\"/></a>"
      ]
    },
    {
      "cell_type": "code",
      "metadata": {
        "id": "p8D4Ghi5Rw1B",
        "colab_type": "code",
        "colab": {}
      },
      "source": [
        "import random\n",
        "from scipy.stats import norminvgauss"
      ],
      "execution_count": 0,
      "outputs": []
    },
    {
      "cell_type": "code",
      "metadata": {
        "id": "W8kxSXUaSNZp",
        "colab_type": "code",
        "colab": {}
      },
      "source": [
        "# f(x) = 4x^3 + 4x\n",
        "# integral f(x) dx = x^4 + 2x^2\n",
        "# buat cek hasil => (1^4 + 2.1^2) - (0^4 + 2.0^2 )= 3\n",
        "\n",
        "def fungsi(x):\n",
        "  return ( (4*(x**3)) + (4*x) )\n",
        "\n",
        "def bawah(a,b,fbar,varbar,k):\n",
        "  hasil = (b-a) * (fbar - (k*varbar))\n",
        "  return hasil\n",
        "\n",
        "def atas(a,b,fbar,varbar,k):\n",
        "  hasil = (b-a) * (fbar + (k*varbar))\n",
        "  return hasil\n",
        "\n",
        "def xirandom(N):\n",
        "  xi = []\n",
        "  for i in range(N):\n",
        "    xi.append(random.random())\n",
        "  return xi\n",
        "\n",
        "def hasilfxi(xi):\n",
        "  fxi = []\n",
        "  for i in range(len(xi)):\n",
        "    fxi.append(fungsi(xi[i]))\n",
        "  return fxi\n",
        "\n",
        "# Rata-rata f / f bar\n",
        "def rataf(N,fxi):\n",
        "  total = 0\n",
        "  for i in range(N):\n",
        "    total = total + fxi[i]\n",
        "  frata = total/N\n",
        "  return frata\n",
        "\n",
        "# Variansi\n",
        "def variansi(N,fxi):\n",
        "  arrvar = []\n",
        "  for i in range(N):\n",
        "    arrvar.append((fxi[i]-frata)**2)\n",
        "  totvar = 0\n",
        "  for i in range(N):\n",
        "    totvar = totvar + arrvar[i]\n",
        "  var = totvar/(N-1)\n",
        "  varbar = var/N\n",
        "  return arrvar,var,varbar"
      ],
      "execution_count": 0,
      "outputs": []
    },
    {
      "cell_type": "code",
      "metadata": {
        "id": "sJTbjEAQSRw8",
        "colab_type": "code",
        "colab": {}
      },
      "source": [
        "N = 100\n",
        "a = 0\n",
        "b = 1\n",
        "xi = xirandom(N)\n",
        "fxi = hasilfxi(xi)"
      ],
      "execution_count": 0,
      "outputs": []
    },
    {
      "cell_type": "code",
      "metadata": {
        "id": "ROSjUDZSSmgW",
        "colab_type": "code",
        "outputId": "788e5928-99a2-49af-847e-f5ff9d716f45",
        "colab": {
          "base_uri": "https://localhost:8080/",
          "height": 34
        }
      },
      "source": [
        "# Rata-rata / f bar\n",
        "frata = rataf(N,fxi)\n",
        "print (\"Rata-rata (fbar) =\", frata)"
      ],
      "execution_count": 5,
      "outputs": [
        {
          "output_type": "stream",
          "text": [
            "Rata-rata (fbar) = 2.430285985204943\n"
          ],
          "name": "stdout"
        }
      ]
    },
    {
      "cell_type": "code",
      "metadata": {
        "id": "b0Fs5ZUTTCYc",
        "colab_type": "code",
        "outputId": "5d3922bd-ead8-4b6e-dd59-dc8e8eb06833",
        "colab": {
          "base_uri": "https://localhost:8080/",
          "height": 51
        }
      },
      "source": [
        "# Variansi\n",
        "arrvar,var,varbar = variansi(N,fxi)\n",
        "print(\"Variansi =\", var)\n",
        "varbar = var/N\n",
        "print(\"Var Bar =\", varbar)"
      ],
      "execution_count": 6,
      "outputs": [
        {
          "output_type": "stream",
          "text": [
            "Variansi = 3.747474681276593\n",
            "Var Bar = 0.03747474681276593\n"
          ],
          "name": "stdout"
        }
      ]
    },
    {
      "cell_type": "code",
      "metadata": {
        "id": "vKDZWCg6S4xp",
        "colab_type": "code",
        "outputId": "e8639d10-f8ca-4490-e4cc-1acd702b0fc0",
        "colab": {
          "base_uri": "https://localhost:8080/",
          "height": 34
        }
      },
      "source": [
        "nkpercaya = 0.95\n",
        "k = norminvgauss.pdf(a,b,nkpercaya)\n",
        "print(k)"
      ],
      "execution_count": 7,
      "outputs": [
        {
          "output_type": "stream",
          "text": [
            "0.2618111244759917\n"
          ],
          "name": "stdout"
        }
      ]
    },
    {
      "cell_type": "code",
      "metadata": {
        "id": "Bo-ztix0jc79",
        "colab_type": "code",
        "outputId": "fe394127-5fb1-461c-86c9-177c0485bd8f",
        "colab": {
          "base_uri": "https://localhost:8080/",
          "height": 34
        }
      },
      "source": [
        "nilaibawah = bawah(a,b,frata,varbar,k)\n",
        "nilaiatas = atas(a,b,frata,varbar,k)\n",
        "\n",
        "print(nilaibawah,\"<= I <=\", nilaiatas)"
      ],
      "execution_count": 8,
      "outputs": [
        {
          "output_type": "stream",
          "text": [
            "2.4204746796024397 <= I <= 2.4400972908074463\n"
          ],
          "name": "stdout"
        }
      ]
    },
    {
      "cell_type": "code",
      "metadata": {
        "id": "jY9tPq0k5kZg",
        "colab_type": "code",
        "colab": {}
      },
      "source": [
        ""
      ],
      "execution_count": 0,
      "outputs": []
    }
  ]
}